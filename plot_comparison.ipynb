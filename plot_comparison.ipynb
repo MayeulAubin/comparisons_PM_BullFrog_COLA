{
 "cells": [
  {
   "cell_type": "code",
   "execution_count": null,
   "metadata": {},
   "outputs": [],
   "source": [
    "from os.path import isfile\n",
    "from pathlib import Path\n",
    "import numpy as np\n",
    "\n",
    "from pysbmy.power import PowerSpectrum\n",
    "from pysbmy.fft import FourierGrid, read_FourierGrid\n",
    "from pysbmy.field import read_field\n",
    "from pysbmy.correlations import get_autocorrelation\n",
    "\n",
    "from plot_utils import *"
   ]
  },
  {
   "cell_type": "code",
   "execution_count": null,
   "metadata": {},
   "outputs": [],
   "source": [
    "N0=128\n",
    "L0=250.0\n",
    "\n",
    "run_id=0\n",
    "\n",
    "simdir=f\"runs_sims/run{run_id}\"\n"
   ]
  },
  {
   "cell_type": "code",
   "execution_count": null,
   "metadata": {},
   "outputs": [],
   "source": [
    "slice_ijk = (N0//2, slice(None), slice(None))\n",
    "DELTA_LPT = read_field(simdir + \"lpt_density.h5\").data[slice_ijk]\n",
    "\n",
    "all_nsteps = sorted(list(set(nsteps_cola_list + nsteps_bullfrog_list)))[:4]\n",
    "\n",
    "ncols = len(all_nsteps) + 1\n",
    "nrows = 2\n",
    "fig, axs = plt.subplots(nrows, ncols, figsize=(5*ncols,5*nrows), sharex=True, sharey=True)\n",
    "axs[0, 0].imshow(np.log(2 + DELTA_LPT), cmap=cmap)\n",
    "axs[0, 0].set_title(\"LPT\", fontsize=fs_titles)\n",
    "DELTA_PM = read_field(simdir + f\"nsteps{max(nsteps_pm_list)}_final_density_pm.h5\").data[slice_ijk]\n",
    "axs[1, 0].imshow(np.log(2 + DELTA_PM), cmap=cmap)\n",
    "axs[1, 0].set_title(f\"PM with $n_\\\\mathrm{{steps}}={max(nsteps_pm_list)}$\", fontsize=fs_titles)\n",
    "for i, nsteps in enumerate(all_nsteps):\n",
    "    if nsteps in nsteps_cola_list:\n",
    "        DELTA_COLA = read_field(simdir + f\"nsteps{nsteps}_final_density_cola.h5\").data[slice_ijk]\n",
    "        axs[0,i+1].imshow(np.log(2+DELTA_COLA), cmap=cmap)\n",
    "        axs[0, i + 1].set_title(f\"COLA with $n_\\\\mathrm{{steps}}={nsteps}$\", fontsize=fs_titles)\n",
    "    if nsteps in nsteps_bullfrog_list:\n",
    "        DELTA_BULLFROG = read_field(simdir + f\"nsteps{nsteps}_final_density_bullfrog.h5\").data[slice_ijk]\n",
    "        axs[1, i + 1].imshow(np.log(2 + DELTA_BULLFROG), cmap=cmap)\n",
    "        axs[1,i+1].set_title(f\"BullFrog with $n_\\\\mathrm{{steps}}={nsteps}$\", fontsize=fs_titles)\n",
    "for ax in axs.flatten():\n",
    "    ax.spines[[\"top\", \"right\", \"bottom\", \"left\"]].set_visible(False)\n",
    "for ax in axs[:,0]:\n",
    "    ax.set_yticks([0, N0//2, N0])\n",
    "    ax.set_yticklabels([f\"{-L0/2:.0f}\", \"0\", f\"{L0/2:.0f}\"], fontsize=fs)\n",
    "for ax in axs[1,:]:\n",
    "    ax.set_xticks([0, N0//2, N0])\n",
    "    ax.set_xticklabels([f\"{-L0/2:.0f}\", \"0\", f\"{L0/2:.0f}\"], fontsize=fs)\n",
    "for i in range(nrows):\n",
    "    for j in range(ncols):\n",
    "        if axs[i,j].get_title() == \"\":\n",
    "            axs[i,j].axis(\"off\")\n",
    "plt.tight_layout()\n",
    "plt.show()"
   ]
  }
 ],
 "metadata": {
  "kernelspec": {
   "display_name": "PhD",
   "language": "python",
   "name": "python3"
  },
  "language_info": {
   "name": "python",
   "version": "3.12.6"
  }
 },
 "nbformat": 4,
 "nbformat_minor": 2
}
